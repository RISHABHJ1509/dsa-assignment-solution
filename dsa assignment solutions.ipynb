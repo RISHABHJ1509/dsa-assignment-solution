{
 "cells": [
  {
   "cell_type": "code",
   "execution_count": 5,
   "id": "1cdeafc4",
   "metadata": {},
   "outputs": [
    {
     "name": "stdout",
     "output_type": "stream",
     "text": [
      "Original linked list:\n",
      "1 -> 2 -> 3 -> 4 -> 5 -> None\n",
      "\n",
      "Reversed linked list:\n",
      "5 -> 4 -> 3 -> 2 -> 1 -> None\n"
     ]
    }
   ],
   "source": [
    "'''Problem 1: Reverse a singly linked list.\n",
    "Input: 1 -> 2 -> 3 -> 4 -> 5\n",
    "Output: 5 -> 4 -> 3 -> 2 -> 1'''\n",
    "\n",
    "\n",
    "class ListNode:\n",
    "    def __init__(self, value=0, next=None):\n",
    "        self.value = value\n",
    "        self.next = next\n",
    "\n",
    "def reverse_linked_list(head):\n",
    "    prev = None\n",
    "    current = head\n",
    "\n",
    "    while current is not None:\n",
    "        next_node = current.next\n",
    "        current.next = prev\n",
    "        prev = current\n",
    "        current = next_node\n",
    "\n",
    "    return prev\n",
    "\n",
    "\n",
    "if __name__ == \"__main__\":\n",
    "    # Create a linked list: 1 -> 2 -> 3 -> 4 -> 5\n",
    "    head = ListNode(1, ListNode(2, ListNode(3, ListNode(4, ListNode(5)))))\n",
    "\n",
    "    print(\"Original linked list:\")\n",
    "    current = head\n",
    "    while current is not None:\n",
    "        print(current.value, end=\" -> \")\n",
    "        current = current.next\n",
    "    print(\"None\")\n",
    "\n",
    "    # Reverse the linked list in-place\n",
    "    head = reverse_linked_list(head)\n",
    "\n",
    "    print(\"\\nReversed linked list:\")\n",
    "    current = head\n",
    "    while current is not None:\n",
    "        print(current.value, end=\" -> \")\n",
    "        current = current.next\n",
    "    print(\"None\")"
   ]
  },
  {
   "cell_type": "code",
   "execution_count": 4,
   "id": "19b2c9a8",
   "metadata": {},
   "outputs": [
    {
     "name": "stdout",
     "output_type": "stream",
     "text": [
      "1 -> 2 -> 3 -> 4 -> 5 -> 6 -> "
     ]
    }
   ],
   "source": [
    "'''Problem 2: Merge two sorted linked lists into one sorted linked list.\n",
    "\n",
    "Input: List 1: 1 -> 3 -> 5, List 2: 2 -> 4 -> 6\n",
    "Output: 1 -> 2 -> 3 -> 4 -> 5 -> 6'''\n",
    "    \n",
    "class ListNode:\n",
    "    def __init__(self, value=0, next=None):\n",
    "        self.value = value\n",
    "        self.next = next\n",
    "\n",
    "def merge_sorted_lists(list1, list2):\n",
    "    # Create a dummy node to start the merged list\n",
    "    dummy = ListNode()\n",
    "    current = dummy\n",
    "\n",
    "    while list1 is not None and list2 is not None:\n",
    "        if list1.value < list2.value:\n",
    "            current.next = list1\n",
    "            list1 = list1.next\n",
    "        else:\n",
    "            current.next = list2\n",
    "            list2 = list2.next\n",
    "\n",
    "        current = current.next\n",
    "\n",
    "    # If any list is not empty, append the remaining elements\n",
    "    if list1 is not None:\n",
    "        current.next = list1\n",
    "    elif list2 is not None:\n",
    "        current.next = list2\n",
    "\n",
    "    return dummy.next\n",
    "\n",
    "list1 = ListNode(1, ListNode(3, ListNode(5)))\n",
    "\n",
    "# List 2: 2 -> 4 -> 6\n",
    "list2 = ListNode(2, ListNode(4, ListNode(6)))\n",
    "\n",
    "merged_list = merge_sorted_lists(list1, list2)\n",
    "\n",
    "# Print the merged list\n",
    "while merged_list is not None:\n",
    "    print(merged_list.value, end=\" -> \")\n",
    "    merged_list = merged_list.next\n"
   ]
  },
  {
   "cell_type": "code",
   "execution_count": 33,
   "id": "2c13e901",
   "metadata": {},
   "outputs": [
    {
     "name": "stdout",
     "output_type": "stream",
     "text": [
      "Original linked list:\n",
      "1 -> 2 -> 3 -> 4 -> 5 -> None\n",
      "Linked list after removing the 2th node from the end:\n",
      "1 -> 2 -> 3 -> 5 -> None\n"
     ]
    }
   ],
   "source": [
    "'''Problem 3: Remove the nth node from the end of a linked list.\n",
    "Input: 1 -> 2 -> 3 -> 4 -> 5, n = 2\n",
    "Output: 1 -> 2 -> 3 -> 5'''\n",
    "\n",
    "class ListNode:\n",
    "    def __init__(self, val=0, next=None):\n",
    "        self.val = val\n",
    "        self.next = next\n",
    "\n",
    "def removeNthFromEnd(head, n):\n",
    "    # Use a dummy node to handle edge cases\n",
    "    dummy = ListNode(0)\n",
    "    dummy.next = head\n",
    "    \n",
    "    # Initialize two pointers\n",
    "    fast = slow = dummy\n",
    "    \n",
    "    # Move the fast pointer n steps forward\n",
    "    for _ in range(n):\n",
    "        fast = fast.next\n",
    "    \n",
    "    # Move both pointers simultaneously until the fast pointer reaches the end\n",
    "    while fast.next:\n",
    "        fast = fast.next\n",
    "        slow = slow.next\n",
    "    \n",
    "    # Remove the nth node by updating the next pointer of the node pointed to by the slow pointer\n",
    "    slow.next = slow.next.next\n",
    "    \n",
    "    return dummy.next\n",
    "\n",
    "def printLinkedList(head):\n",
    "    while head:\n",
    "        print(head.val, end=\" -> \")\n",
    "        head = head.next\n",
    "    print(\"None\")\n",
    "\n",
    "\n",
    "head = ListNode(1)\n",
    "head.next = ListNode(2)\n",
    "head.next.next = ListNode(3)\n",
    "head.next.next.next = ListNode(4)\n",
    "head.next.next.next.next = ListNode(5)\n",
    "\n",
    "print(\"Original linked list:\")\n",
    "printLinkedList(head) \n",
    "\n",
    "# Remove the 2nd node from the end\n",
    "n = 2\n",
    "head = removeNthFromEnd(head, n)\n",
    "\n",
    "print(f\"Linked list after removing the {n}th node from the end:\")\n",
    "printLinkedList(head) \n",
    "\n"
   ]
  },
  {
   "cell_type": "code",
   "execution_count": 8,
   "id": "c0d76605",
   "metadata": {},
   "outputs": [
    {
     "name": "stdout",
     "output_type": "stream",
     "text": [
      "Intersection Node Value: 3\n"
     ]
    }
   ],
   "source": [
    "'''Problem 4: Find the intersection point of two linked lists.\n",
    "Input: List 1: 1 -> 2 -> 3 -> 4, List 2: 9 -> 8 -> 3 -> 4\n",
    "Output: Node with value 3'''\n",
    "\n",
    "\n",
    "class ListNode:\n",
    "    def __init__(self, value=0, next=None):\n",
    "        self.value = value\n",
    "        self.next = next\n",
    "\n",
    "def getIntersectionNode(head1, head2):\n",
    "    if not head1 or not head2:\n",
    "        return None\n",
    "\n",
    "    current1, current2 = head1, head2\n",
    "\n",
    "    while current1 != current2:\n",
    "        # Move pointers to the next node, and if one reaches the end, move it to the head of the other list\n",
    "        current1 = current1.next if current1 else head2\n",
    "        current2 = current2.next if current2 else head1\n",
    "\n",
    "    return current1  # This is the intersection point\n",
    "\n",
    "list1 = ListNode(1, ListNode(2, ListNode(3, ListNode(4))))\n",
    "list2 = ListNode(9, ListNode(8, list1.next.next))\n",
    "\n",
    "intersection_node = getIntersectionNode(list1, list2)\n",
    "if intersection_node:\n",
    "    print(f\"Intersection Node Value: {intersection_node.value}\")\n",
    "else:\n",
    "    print(\"No intersection point found.\")\n",
    "\n",
    "            "
   ]
  },
  {
   "cell_type": "code",
   "execution_count": 2,
   "id": "451fbbb7",
   "metadata": {},
   "outputs": [
    {
     "name": "stdout",
     "output_type": "stream",
     "text": [
      "1 -> 2 -> 3 -> "
     ]
    }
   ],
   "source": [
    "'''Problem 5: Remove duplicates from a sorted linked list.\n",
    "    \n",
    "Input: 1 -> 1 -> 2 -> 3 -> 3\n",
    "Output: 1 -> 2 -> 3'''\n",
    "\n",
    "class ListNode:\n",
    "    def __init__(self, val=0, next=None):\n",
    "        self.val = val\n",
    "        self.next = next\n",
    "\n",
    "def remove_duplicates(head):\n",
    "    current = head\n",
    "\n",
    "    while current and current.next:\n",
    "        if current.val == current.next.val:\n",
    "            current.next = current.next.next\n",
    "        else:\n",
    "            current = current.next\n",
    "\n",
    "    return head\n",
    "\n",
    "\n",
    "head = ListNode(1, ListNode(1, ListNode(2, ListNode(3, ListNode(3)))))\n",
    "result = remove_duplicates(head)\n",
    "\n",
    "# Print the result\n",
    "while result:\n",
    "    print(result.val, end=\" -> \")\n",
    "    result = result.next\n",
    "\n",
    "        "
   ]
  },
  {
   "cell_type": "code",
   "execution_count": 2,
   "id": "8fca149e",
   "metadata": {},
   "outputs": [
    {
     "name": "stdout",
     "output_type": "stream",
     "text": [
      "7->0->8->"
     ]
    }
   ],
   "source": [
    "'''Problem 6: Add two numbers represented by linked lists (where each node contains a single digit).\n",
    "    \n",
    "Input: List 1: 2 -> 4 -> 3, List 2: 5 -> 6 -> 4 (represents 342 + 465)\n",
    "Output: 7 -> 0 -> 8 (represents 807)'''\n",
    "    \n",
    "class ListNode:\n",
    "    def __init__(self,value=0,next=None):\n",
    "        self.value=value\n",
    "        self.next = next\n",
    "        \n",
    "def addtwoll(l1,l2):\n",
    "    dummy = listnode(0)\n",
    "    current = dummy\n",
    "    carry = 0\n",
    "    \n",
    "    while (l1 or l2 or carry):\n",
    "        val1 = l1.value if l1 else 0\n",
    "        val2 = l2.value if l2 else 0\n",
    "        \n",
    "        #calculate the sum and carry\n",
    "        total = val1 + val2 + carry\n",
    "        carry = total//10\n",
    "        current.next = ListNode(total%10)\n",
    "        \n",
    "        # Move to the next nodes\n",
    "        current = current.next\n",
    "        l1 = l1.next if l1 else None\n",
    "        l2 = l2.next if l2 else None\n",
    "    \n",
    "    return dummy.next\n",
    "\n",
    "list1 = ListNode(2)\n",
    "list1.next = ListNode(4)\n",
    "list1.next.next = ListNode(3)\n",
    "\n",
    "list2 = ListNode(5)\n",
    "list2.next = ListNode(6)\n",
    "list2.next.next = ListNode(4)\n",
    "\n",
    "result = addtwoll(list1,list2)\n",
    "while result:\n",
    "    print(result.value, end=\"->\")\n",
    "    result = result.next\n",
    "    "
   ]
  },
  {
   "cell_type": "code",
   "execution_count": 17,
   "id": "a4ed3234",
   "metadata": {},
   "outputs": [
    {
     "name": "stdout",
     "output_type": "stream",
     "text": [
      "2 -> 1 -> 4 -> 3 -> "
     ]
    }
   ],
   "source": [
    "'''Problem 7: Swap nodes in pairs in a linked list.\n",
    "    \n",
    "Input: 1 -> 2 -> 3 -> 4\n",
    "Output: 2 -> 1 -> 4 -> 3'''\n",
    "\n",
    "class ListNode:\n",
    "    def __init__(self, val=0, next=None):\n",
    "        self.val = val\n",
    "        self.next = next\n",
    "\n",
    "def swapPairs(head):\n",
    "    # Create a dummy node to simplify the code\n",
    "    dummy = ListNode(0,head)\n",
    "    current = head\n",
    "    prev = dummy\n",
    "\n",
    "    while current and current.next:\n",
    "        second = current.next\n",
    "        nxtpair = current.next.next\n",
    "\n",
    "        second.next = current\n",
    "        current.next = nxtpair\n",
    "        prev.next = second\n",
    "        \n",
    "        prev = current\n",
    "        current = nxtpair\n",
    "\n",
    "    return dummy.next\n",
    "\n",
    "4\n",
    "head = ListNode(1, ListNode(2, ListNode(3, ListNode(4))))\n",
    "result = swapPairs(head)\n",
    "\n",
    "# Print the result: 2 -> 1 -> 4 -> 3\n",
    "while result:\n",
    "    print(result.val, end=\" -> \")\n",
    "    result = result.next\n"
   ]
  },
  {
   "cell_type": "code",
   "execution_count": 1,
   "id": "2e1201fa",
   "metadata": {},
   "outputs": [
    {
     "name": "stdout",
     "output_type": "stream",
     "text": [
      "Input:\n",
      "1 2 3 4 5 \n",
      "Output:\n",
      "3 2 1 4 5 \n"
     ]
    }
   ],
   "source": [
    "'''Problem 8: Reverse nodes in a linked list in groups of k.\n",
    "    \n",
    "Input: 1 -> 2 -> 3 -> 4 -> 5, k = 3\n",
    "Output: 3 -> 2 -> 1 -> 4 -> 5'''\n",
    "\n",
    "class ListNode:\n",
    "    def __init__(self, val=0, next=None):\n",
    "        self.val = val\n",
    "        self.next = next\n",
    "\n",
    "def reverse_k_group(head, k):\n",
    "    if not head or k == 1:\n",
    "        return head\n",
    "    \n",
    "    dummy = ListNode(0)\n",
    "    dummy.next = head\n",
    "    prev_group_end = dummy\n",
    "\n",
    "    while prev_group_end:\n",
    "        prev = None\n",
    "        curr = prev_group_end.next\n",
    "        group_end = prev_group_end\n",
    "\n",
    "        for _ in range(k):\n",
    "            if not group_end.next:\n",
    "                return dummy.next\n",
    "            group_end = group_end.next\n",
    "\n",
    "        for _ in range(k):\n",
    "            next_node = curr.next\n",
    "            curr.next = prev\n",
    "            prev = curr\n",
    "            curr = next_node\n",
    "\n",
    "        prev_group_end.next.next = curr\n",
    "        next_prev_group_end = prev_group_end.next\n",
    "        prev_group_end.next = prev\n",
    "        prev_group_end = next_prev_group_end\n",
    "\n",
    "    return dummy.next\n",
    "\n",
    "# Function to print the linked list\n",
    "def print_list(head):\n",
    "    current = head\n",
    "    while current:\n",
    "        print(current.val, end=\" \")\n",
    "        current = current.next\n",
    "    print()\n",
    "\n",
    "# Example usage\n",
    "head = ListNode(1)\n",
    "head.next = ListNode(2)\n",
    "head.next.next = ListNode(3)\n",
    "head.next.next.next = ListNode(4)\n",
    "head.next.next.next.next = ListNode(5)\n",
    "k = 3\n",
    "print(\"Input:\")\n",
    "print_list(head)\n",
    "print(\"Output:\")\n",
    "result = reverse_k_group(head, k)\n",
    "print_list(result)\n"
   ]
  },
  {
   "cell_type": "code",
   "execution_count": 4,
   "id": "1fb34d03",
   "metadata": {},
   "outputs": [
    {
     "name": "stdout",
     "output_type": "stream",
     "text": [
      "True\n"
     ]
    }
   ],
   "source": [
    "'''Problem 9: Determine if a linked list is a palindrome.\n",
    "    \n",
    "Input: 1 -> 2 -> 2 -> 1\n",
    "Output: True'''\n",
    "\n",
    "class ListNode:\n",
    "    def __init__(self, val=0, next=None):\n",
    "        self.val = val\n",
    "        self.next = next\n",
    "\n",
    "def is_palindrome(head):\n",
    "    # Step 1: Traverse the linked list and store elements in an array\n",
    "    arr = []\n",
    "    current = head\n",
    "    while current:\n",
    "        arr.append(current.val)\n",
    "        current = current.next\n",
    "    \n",
    "    # Step 2: Compare elements using two pointers technique\n",
    "    left = 0\n",
    "    right = len(arr) - 1\n",
    "    while left < right:\n",
    "        if arr[left] != arr[right]:\n",
    "            return False\n",
    "        left += 1\n",
    "        right -= 1\n",
    "    \n",
    "    # Step 3: If all elements match, return True\n",
    "    return True\n",
    "\n",
    "head = ListNode(1)\n",
    "head.next = ListNode(2)\n",
    "head.next.next = ListNode(2)\n",
    "head.next.next.next = ListNode(1)\n",
    "\n",
    "print(is_palindrome(head)) \n"
   ]
  },
  {
   "cell_type": "code",
   "execution_count": 29,
   "id": "d42d0219",
   "metadata": {},
   "outputs": [
    {
     "name": "stdout",
     "output_type": "stream",
     "text": [
      "Linked list after rotating by 2 places:\n",
      "4 -> 5 -> 1 -> 2 -> 3 -> None\n"
     ]
    }
   ],
   "source": [
    "'''Problem 10: Rotate a linked list to the right by k places.\n",
    "Input: 1 -> 2 -> 3 -> 4 -> 5, k = 2\n",
    "Output: 4 -> 5 -> 1 -> 2 -> 3'''\n",
    "\n",
    "class ListNode:\n",
    "    def __init__(self, val=0, next=None):\n",
    "        self.val = val\n",
    "        self.next = next\n",
    "\n",
    "def rotateRight(head, k):\n",
    "    if not head or not head.next or k == 0:\n",
    "        return head\n",
    "    \n",
    "    # Calculate the length of the linked list\n",
    "    length = 1\n",
    "    current = head\n",
    "    while current.next:\n",
    "        current = current.next\n",
    "        length += 1\n",
    "    \n",
    "    # Adjust the value of k\n",
    "    k = k % length\n",
    "    \n",
    "    if k == 0:\n",
    "        return head\n",
    "    \n",
    "    # Find the (length - k)th node\n",
    "    fast = slow = head\n",
    "    for _ in range(k):\n",
    "        fast = fast.next\n",
    "    \n",
    "    while fast.next:\n",
    "        slow = slow.next\n",
    "        fast = fast.next\n",
    "    \n",
    "    # Rotate the list\n",
    "    new_head = slow.next\n",
    "    slow.next = None\n",
    "    current.next = head\n",
    "    \n",
    "    return new_head\n",
    "\n",
    "def printLinkedList(head):\n",
    "    while head:\n",
    "        print(head.val, end=\" -> \")\n",
    "        head = head.next\n",
    "    print(\"None\")\n",
    "\n",
    "\n",
    "head = ListNode(1)\n",
    "head.next = ListNode(2)\n",
    "head.next.next = ListNode(3)\n",
    "head.next.next.next = ListNode(4)\n",
    "head.next.next.next.next = ListNode(5)\n",
    "\n",
    "k = 2\n",
    "rotated_head = rotateRight(head, k)\n",
    "\n",
    "print(f\"Linked list after rotating by {k} places:\")\n",
    "printLinkedList(rotated_head)  # Output: 4 -> 5 -> 1 -> 2 -> 3 -> None\n"
   ]
  },
  {
   "cell_type": "code",
   "execution_count": 30,
   "id": "526af089",
   "metadata": {},
   "outputs": [
    {
     "name": "stdout",
     "output_type": "stream",
     "text": [
      "Original multilevel doubly linked list:\n",
      "1 -> 2 -> 3 -> 4 -> None\n",
      "Flattened doubly linked list:\n",
      "1 -> 2 -> 7 -> 8 -> 11 -> 12 -> 9 -> 10 -> 3 -> 4 -> 5 -> 6 -> None\n"
     ]
    }
   ],
   "source": [
    "'''Problem 11: Flatten a multilevel doubly linked list.\n",
    "Input: 1 <-> 2 <-> 3 <-> 7 <-> 8 <-> 11 -> 12, 4 <-> 5 -> 9 -> 10, 6 -> 13\n",
    "Output: 1 <-> 2 <-> 3 <-> 4 <-> 5 <-> 6 <-> 7 <-> 8 <-> 9 <-> 10 <-> 11 <-> 12 <-> 13'''\n",
    "\n",
    "class Node:\n",
    "    def __init__(self, val, prev=None, next=None, child=None):\n",
    "        self.val = val\n",
    "        self.prev = prev\n",
    "        self.next = next\n",
    "        self.child = child\n",
    "\n",
    "def flatten(head):\n",
    "    if not head:\n",
    "        return head\n",
    "    \n",
    "    dummy = Node(0, None, head, None)\n",
    "    prev = dummy\n",
    "    \n",
    "    stack = [head]\n",
    "    while stack:\n",
    "        node = stack.pop()\n",
    "        \n",
    "        if node.next:\n",
    "            stack.append(node.next)\n",
    "        \n",
    "        if node.child:\n",
    "            stack.append(node.child)\n",
    "            node.child = None\n",
    "        \n",
    "        prev.next = node\n",
    "        node.prev = prev\n",
    "        prev = node\n",
    "    \n",
    "    # Set the prev pointer of the new head to None\n",
    "    dummy.next.prev = None\n",
    "    \n",
    "    return dummy.next\n",
    "\n",
    "def printLinkedList(head):\n",
    "    while head:\n",
    "        print(head.val, end=\" -> \")\n",
    "        head = head.next\n",
    "    print(\"None\")\n",
    "\n",
    "head = Node(1)\n",
    "head.next = Node(2)\n",
    "head.next.prev = head\n",
    "head.next.next = Node(3)\n",
    "head.next.next.prev = head.next\n",
    "head.next.next.next = Node(4)\n",
    "head.next.next.next.prev = head.next.next\n",
    "head.next.child = Node(7)\n",
    "head.next.child.next = Node(8)\n",
    "head.next.child.next.prev = head.next.child\n",
    "head.next.child.next.next = Node(11)\n",
    "head.next.child.next.next.prev = head.next.child.next\n",
    "head.next.child.next.next.next = Node(12)\n",
    "head.next.child.next.next.next.prev = head.next.child.next.next\n",
    "head.next.child.next.next.next.next = Node(9)\n",
    "head.next.child.next.next.next.next.prev = head.next.child.next.next.next\n",
    "head.next.child.next.next.next.next.next = Node(10)\n",
    "head.next.child.next.next.next.next.next.prev = head.next.child.next.next.next.next\n",
    "head.next.next.next.child = Node(5)\n",
    "head.next.next.next.child.next = Node(6)\n",
    "head.next.next.next.child.next.prev = head.next.next.next.child\n",
    "\n",
    "print(\"Original multilevel doubly linked list:\")\n",
    "printLinkedList(head)\n",
    "\n",
    "# Flatten the multilevel doubly linked list\n",
    "flattened_head = flatten(head)\n",
    "\n",
    "print(\"Flattened doubly linked list:\")\n",
    "printLinkedList(flattened_head)\n"
   ]
  },
  {
   "cell_type": "code",
   "execution_count": 31,
   "id": "4e5c2206",
   "metadata": {},
   "outputs": [
    {
     "name": "stdout",
     "output_type": "stream",
     "text": [
      "Original linked list:\n",
      "1 -> 2 -> 3 -> 4 -> 5 -> None\n",
      "Rearranged linked list:\n",
      "1 -> 3 -> 5 -> 2 -> 4 -> None\n"
     ]
    }
   ],
   "source": [
    "'''Problem 12: Rearrange a linked list such that all even positioned nodes are placed at the end.\n",
    "    \n",
    "Input: 1 -> 2 -> 3 -> 4 -> 5\n",
    "Output: 1 -> 3 -> 5 -> 2 -> 4'''\n",
    "\n",
    "class ListNode:\n",
    "    def __init__(self, val=0, next=None):\n",
    "        self.val = val\n",
    "        self.next = next\n",
    "\n",
    "def rearrangeLinkedList(head):\n",
    "    if not head or not head.next:\n",
    "        return head\n",
    "\n",
    "    # Initialize pointers for odd and even lists\n",
    "    odd_head = odd_tail = head\n",
    "    even_head = even_tail = head.next\n",
    "\n",
    "    # Traverse the list to split odd and even nodes\n",
    "    current = head.next.next\n",
    "    is_odd = True\n",
    "    while current:\n",
    "        if is_odd:\n",
    "            odd_tail.next = current\n",
    "            odd_tail = odd_tail.next\n",
    "        else:\n",
    "            even_tail.next = current\n",
    "            even_tail = even_tail.next\n",
    "        current = current.next\n",
    "        is_odd = not is_odd\n",
    "\n",
    "    # Connect the last node of the odd list to the head of the even list\n",
    "    odd_tail.next = even_head\n",
    "    # Set the next pointer of the last node of the even list to None\n",
    "    even_tail.next = None\n",
    "\n",
    "    return odd_head\n",
    "\n",
    "def printLinkedList(head):\n",
    "    while head:\n",
    "        print(head.val, end=\" -> \")\n",
    "        head = head.next\n",
    "    print(\"None\")\n",
    "\n",
    "\n",
    "head = ListNode(1)\n",
    "head.next = ListNode(2)\n",
    "head.next.next = ListNode(3)\n",
    "head.next.next.next = ListNode(4)\n",
    "head.next.next.next.next = ListNode(5)\n",
    "\n",
    "print(\"Original linked list:\")\n",
    "printLinkedList(head) \n",
    "\n",
    "# Rearrange the linked list such that even-positioned nodes are placed at the end\n",
    "rearranged_head = rearrangeLinkedList(head)\n",
    "\n",
    "print(\"Rearranged linked list:\")\n",
    "printLinkedList(rearranged_head)  \n"
   ]
  },
  {
   "cell_type": "code",
   "execution_count": 28,
   "id": "90941907",
   "metadata": {},
   "outputs": [
    {
     "name": "stdout",
     "output_type": "stream",
     "text": [
      "Original linked list:\n",
      "1 -> 2 -> 3 -> None\n",
      "Linked list after adding one:\n",
      "1 -> 2 -> 4 -> None\n"
     ]
    }
   ],
   "source": [
    "'''Problem 13: Given a non-negative number represented as a linked list, add one to it.\n",
    "\n",
    "Input: 1 -> 2 -> 3 (represents the number 123)\n",
    "Output: 1 -> 2 -> 4 (represents the number 124)'''\n",
    "\n",
    "class ListNode:\n",
    "    def __init__(self, val=0, next=None):\n",
    "        self.val = val\n",
    "        self.next = next\n",
    "\n",
    "def addOneLinkedList(head):\n",
    "    # Initialize a dummy node to handle edge cases\n",
    "    dummy = ListNode(0)\n",
    "    dummy.next = head\n",
    "    # Pointer to the last non-nine digit\n",
    "    last_non_nine = dummy\n",
    "\n",
    "    # Traverse the linked list to find the last non-nine digit\n",
    "    current = head\n",
    "    while current:\n",
    "        if current.val != 9:\n",
    "            last_non_nine = current\n",
    "        current = current.next\n",
    "\n",
    "    # Increment the last non-nine digit by one\n",
    "    last_non_nine.val += 1\n",
    "    # Set all digits after the last non-nine digit to zero\n",
    "    current = last_non_nine.next\n",
    "    while current:\n",
    "        current.val = 0\n",
    "        current = current.next\n",
    "\n",
    "    # Return head of the updated linked list\n",
    "    return dummy if dummy.val != 0 else dummy.next\n",
    "\n",
    "def printLinkedList(head):\n",
    "    while head:\n",
    "        print(head.val, end=\" -> \")\n",
    "        head = head.next\n",
    "    print(\"None\")\n",
    "\n",
    "\n",
    "head = ListNode(1)\n",
    "head.next = ListNode(2)\n",
    "head.next.next = ListNode(3)\n",
    "\n",
    "print(\"Original linked list:\")\n",
    "printLinkedList(head)  \n",
    "\n",
    "# Add one to the linked list\n",
    "head = addOneLinkedList(head)\n",
    "\n",
    "print(\"Linked list after adding one:\")\n",
    "printLinkedList(head)  \n",
    "\n",
    "    "
   ]
  },
  {
   "cell_type": "code",
   "execution_count": 25,
   "id": "5f407af0",
   "metadata": {},
   "outputs": [
    {
     "data": {
      "text/plain": [
       "2"
      ]
     },
     "execution_count": 25,
     "metadata": {},
     "output_type": "execute_result"
    }
   ],
   "source": [
    "'''Problem 14: Given a sorted array and a target value, return the index if the target is found. If not, return the\n",
    "index where it would be inserted.\n",
    "\n",
    "Input: nums = [1, 3, 5, 6], target = 5\n",
    "Output: 2'''\n",
    "\n",
    "def searchInsert(nums, target):\n",
    "    left, right = 0, len(nums) - 1\n",
    "\n",
    "    while left <= right:\n",
    "        mid = left + (right - left) // 2\n",
    "        if nums[mid] == target:\n",
    "            return mid\n",
    "        elif nums[mid] < target:\n",
    "            left = mid + 1\n",
    "        else:\n",
    "            right = mid - 1\n",
    "\n",
    "    # If the target is not found, 'left' indicates the index where it would be inserted.\n",
    "    return left\n",
    "\n",
    "nums = [1, 3, 5, 6]\n",
    "target = 5\n",
    "\n",
    "searchInsert(nums,target)"
   ]
  },
  {
   "cell_type": "code",
   "execution_count": 24,
   "id": "1f9c4971",
   "metadata": {},
   "outputs": [
    {
     "name": "stdout",
     "output_type": "stream",
     "text": [
      "0\n"
     ]
    }
   ],
   "source": [
    "'''Problem 15: Find the minimum element in a rotated sorted array.\n",
    "    \n",
    "Input: [4, 5, 6, 7, 0, 1, 2]\n",
    "Output: 0'''\n",
    "\n",
    "def minimum(arr):\n",
    "    curr = 0\n",
    "    for i in range(len(arr)):\n",
    "        if arr[curr]< arr[curr+1] and arr[curr] < arr[curr-1]:\n",
    "            print(arr[curr])\n",
    "            break\n",
    "        curr +=1\n",
    "arr = [4, 5, 6, 7, 0, 1, 2]\n",
    "minimum(arr)    "
   ]
  },
  {
   "cell_type": "code",
   "execution_count": 21,
   "id": "71ab7282",
   "metadata": {},
   "outputs": [
    {
     "name": "stdout",
     "output_type": "stream",
     "text": [
      "4\n"
     ]
    }
   ],
   "source": [
    "'''Problem 16: Search for a target value in a rotated sorted array.\n",
    "    \n",
    "Input: nums = [4, 5, 6, 7, 0, 1, 2], target = 0\n",
    "Output: 4'''\n",
    "\n",
    "def targetvalue(arr,target):\n",
    "    for i in range(len(arr)):\n",
    "        if arr[i]== target:\n",
    "            print(i)\n",
    "\n",
    "nums = [4, 5, 6, 7, 0, 1, 2]\n",
    "target = 0\n",
    "\n",
    "targetvalue(nums,target)\n"
   ]
  },
  {
   "cell_type": "code",
   "execution_count": 13,
   "id": "3a2fde4b",
   "metadata": {},
   "outputs": [
    {
     "name": "stdout",
     "output_type": "stream",
     "text": [
      "2\n"
     ]
    }
   ],
   "source": [
    "'''Problem 17: Find the peak element in an array. A peak element is greater than its neighbors.\n",
    "    \n",
    "Input: nums = [1, 2, 3, 1]\n",
    "Output: 2 (index of peak element)'''\n",
    "\n",
    "def peak(arr):\n",
    "    for i in range(len(arr)):\n",
    "        if arr[i] > arr[i-1] and arr[i]> arr[i+1]:\n",
    "            print(i)\n",
    "\n",
    "nums = [1, 2, 3, 1]\n",
    "peak(nums)"
   ]
  },
  {
   "cell_type": "code",
   "execution_count": 12,
   "id": "5de4d8cb",
   "metadata": {},
   "outputs": [
    {
     "data": {
      "text/plain": [
       "8"
      ]
     },
     "execution_count": 12,
     "metadata": {},
     "output_type": "execute_result"
    }
   ],
   "source": [
    "'''Problem 18: Given a m x n matrix where each row and column is sorted in ascending order, count the number\n",
    "of negative numbers.\n",
    "\n",
    "Input: grid = [[4, 3, 2, -1], [3, 2, 1, -1], [1, 1, -1, -2], [-1, -1, -2, -3]]\n",
    "Output: 8'''\n",
    "    \n",
    "\n",
    "def countNegatives(matrix):\n",
    "    if not matrix or not matrix[0]:\n",
    "        return 0\n",
    "\n",
    "    rows = len(matrix)\n",
    "    cols = len(matrix[0])\n",
    "\n",
    "    count = 0\n",
    "    row = 0\n",
    "    col = cols - 1\n",
    "\n",
    "    while row < rows and col >= 0:\n",
    "        if matrix[row][col] < 0:\n",
    "            # If the current element is negative,\n",
    "            # all elements to its left in the same row are also negative.\n",
    "            count += (rows - row)\n",
    "            col -= 1\n",
    "        else:\n",
    "            # If the current element is non-negative, move to the next row.\n",
    "            row += 1\n",
    "\n",
    "    return count\n",
    "\n",
    "grid = [[4, 3, 2, -1], [3, 2, 1, -1], [1, 1, -1, -2], [-1, -1, -2, -3]]\n",
    "countNegatives(grid)"
   ]
  },
  {
   "cell_type": "code",
   "execution_count": 10,
   "id": "711e01c2",
   "metadata": {},
   "outputs": [
    {
     "name": "stdout",
     "output_type": "stream",
     "text": [
      "True\n"
     ]
    }
   ],
   "source": [
    "'''Problem 19: Given a 2D matrix sorted in ascending order in each row, and the first integer of each row is\n",
    "greater than the last integer of the previous row, determine if a target value is present in the matrix.\n",
    "\n",
    "Input: matrix = [[1, 3, 5, 7], [10, 11, 16, 20], [23, 30, 34, 60]], target = 3\n",
    "Output: True'''\n",
    "\n",
    "matrix = [[1, 3, 5, 7], [10, 11, 16, 20], [23, 30, 34, 60]]\n",
    "target = 3\n",
    "\n",
    "def searchMatrix(matrix, target):\n",
    "    if not matrix or not matrix[0]:\n",
    "        return False\n",
    "\n",
    "    rows = len(matrix)\n",
    "    cols = len(matrix[0])\n",
    "\n",
    "    # Binary search\n",
    "    left, right = 0, rows * cols - 1\n",
    "    while left <= right:\n",
    "        mid = left + (right - left) // 2\n",
    "        mid_value = matrix[mid // cols][mid % cols]\n",
    "        if mid_value == target:\n",
    "            return True\n",
    "        elif mid_value < target:\n",
    "            left = mid + 1\n",
    "        else:\n",
    "            right = mid - 1\n",
    "\n",
    "    return False\n",
    "\n",
    "\n",
    "print(searchMatrix(matrix, target)) \n"
   ]
  },
  {
   "cell_type": "code",
   "execution_count": 5,
   "id": "fc7e8151",
   "metadata": {},
   "outputs": [
    {
     "name": "stdout",
     "output_type": "stream",
     "text": [
      "2\n"
     ]
    }
   ],
   "source": [
    "'''Problem 20: Find Median in Two Sorted Arrays\n",
    "Problem: Given two sorted arrays, find the median of the combined sorted array.\n",
    "    \n",
    "Input: nums1 = [1, 3], nums2 = [2]\n",
    "Output: 2.0'''\n",
    "\n",
    "def findMedianSortedArrays(nums1, nums2):\n",
    "    merged = []\n",
    "    i = j = 0\n",
    "    total_length = len(nums1) + len(nums2)\n",
    "\n",
    "    while i < len(nums1) and j < len(nums2):\n",
    "        if nums1[i] < nums2[j]:\n",
    "            merged.append(nums1[i])\n",
    "            i += 1\n",
    "        else:\n",
    "            merged.append(nums2[j])\n",
    "            j += 1\n",
    "\n",
    "    merged.extend(nums1[i:])\n",
    "    merged.extend(nums2[j:])\n",
    "\n",
    "    if total_length % 2 == 0:\n",
    "        # If the total length is even, return the average of the two middle elements\n",
    "        median_index = total_length // 2\n",
    "        return (merged[median_index - 1] + merged[median_index]) / 2\n",
    "    else:\n",
    "        # If the total length is odd, return the middle element\n",
    "        median_index = total_length // 2\n",
    "        return merged[median_index]\n",
    "\n",
    "\n",
    "nums1 = [1, 3]\n",
    "nums2 = [2]\n",
    "print(findMedianSortedArrays(nums1, nums2)) \n"
   ]
  },
  {
   "cell_type": "code",
   "execution_count": 4,
   "id": "31267ddc",
   "metadata": {},
   "outputs": [
    {
     "name": "stdout",
     "output_type": "stream",
     "text": [
      "c\n"
     ]
    }
   ],
   "source": [
    "'''Problem 21: Given a sorted character array and a target letter, find the smallest letter in the array that is\n",
    "greater than the target.\n",
    "\n",
    "Input: letters = ['c', 'f', 'j'], target = a\n",
    "Output: 'c' '''\n",
    "\n",
    "arr = ['a','c','f','j']\n",
    "target = 'a'\n",
    "\n",
    "def letter(arr,target):\n",
    "    for i in arr:\n",
    "        if i != target:\n",
    "            print(i)\n",
    "            break\n",
    "letter(arr,target)"
   ]
  },
  {
   "cell_type": "code",
   "execution_count": 60,
   "id": "1fc372b6",
   "metadata": {},
   "outputs": [
    {
     "name": "stdout",
     "output_type": "stream",
     "text": [
      "[0, 0, 1, 1, 2, 2]\n"
     ]
    }
   ],
   "source": [
    "'''Problem 22: Given an array with n objects colored red, white, or blue, sort them in-place so that objects of\n",
    "the same color are adjacent, with the colors in the order red, white, and blue.\n",
    "\n",
    "\n",
    "Input: nums = [2, 0, 2, 1, 1, 0]\n",
    "Output: [0, 0, 1, 1, 2, 2]'''\n",
    "\n",
    "nums = [2, 0, 2, 1, 1, 0]\n",
    "\n",
    "def adjacent(arr):\n",
    "    low = 0\n",
    "    mid = 0\n",
    "    high = len(arr) - 1\n",
    "\n",
    "    while mid <= high:\n",
    "        if arr[mid] == 0:\n",
    "            arr[low], arr[mid] = arr[mid], arr[low]\n",
    "            low += 1\n",
    "            mid += 1\n",
    "        elif arr[mid] == 1:\n",
    "            mid += 1\n",
    "        else:\n",
    "            arr[mid], arr[high] = arr[high], arr[mid]\n",
    "            high -= 1\n",
    "adjacent(nums)\n",
    "print(nums)"
   ]
  },
  {
   "cell_type": "code",
   "execution_count": 39,
   "id": "0c7550f7",
   "metadata": {},
   "outputs": [
    {
     "data": {
      "text/plain": [
       "5"
      ]
     },
     "execution_count": 39,
     "metadata": {},
     "output_type": "execute_result"
    }
   ],
   "source": [
    "'''Problem 23: Find the kth largest element in an unsorted array.\n",
    "    \n",
    "Input: nums = [3, 2, 1, 5, 6, 4], k = 2\n",
    "Output: 5'''\n",
    "\n",
    "nums = [3, 2, 1, 5, 6, 4]\n",
    "\n",
    "k = 2\n",
    "\n",
    "\n",
    "def largest(arr,k):\n",
    "    arr.sort()\n",
    "    return arr[-k]\n",
    "\n",
    "largest(nums,k)    "
   ]
  },
  {
   "cell_type": "code",
   "execution_count": 29,
   "id": "61781479",
   "metadata": {},
   "outputs": [
    {
     "data": {
      "text/plain": [
       "[3, 5, 1, 6, 2, 4]"
      ]
     },
     "execution_count": 29,
     "metadata": {},
     "output_type": "execute_result"
    }
   ],
   "source": [
    "'''Problem 24: Given an unsorted array, reorder it in-place such that nums[0] <= nums[1] >= nums[2] <=\n",
    "nums[3]...\n",
    "\n",
    "Input: nums = [3, 5, 2, 1, 6, 4]\n",
    "Output: [3, 5, 1, 6, 2, 4]'''\n",
    "\n",
    "def reorder(arr):\n",
    "    left = 0\n",
    "    right = 1\n",
    "    for i in range(1,len(arr)-1,2):\n",
    "        if arr[i]<= arr[i-1]:\n",
    "            arr[i-1],arr[i]=arr[i],arr[i-1]\n",
    "        if arr[i]<= arr[i+1]:\n",
    "            arr[i],arr[i+1]=arr[i+1],arr[i]\n",
    "    return arr\n",
    "            \n",
    "nums = [3, 5, 2, 1, 6, 4]\n",
    "reorder(nums)"
   ]
  },
  {
   "cell_type": "code",
   "execution_count": 21,
   "id": "eda1d5d2",
   "metadata": {},
   "outputs": [
    {
     "data": {
      "text/plain": [
       "15"
      ]
     },
     "execution_count": 21,
     "metadata": {},
     "output_type": "execute_result"
    }
   ],
   "source": [
    "'''Problem 25: Given an array of integers, calculate the sum of all its elements.\n",
    "Input: [1, 2, 3, 4, 5]\n",
    "Output: 15'''\n",
    "\n",
    "a = [1,2,3,4,5]\n",
    "\n",
    "def sum(arr):\n",
    "    count = 0\n",
    "    for i in arr:\n",
    "        count += i\n",
    "    return count\n",
    "sum(a)"
   ]
  },
  {
   "cell_type": "code",
   "execution_count": 19,
   "id": "18070e39",
   "metadata": {},
   "outputs": [
    {
     "data": {
      "text/plain": [
       "9"
      ]
     },
     "execution_count": 19,
     "metadata": {},
     "output_type": "execute_result"
    }
   ],
   "source": [
    "'''Problem 26: Find the maximum element in an array of integers.\n",
    "Input: [3, 7, 2, 9, 4, 1]\n",
    "Output: 9'''\n",
    "\n",
    "a = [3,7,2,9,4,1]\n",
    "\n",
    "def maxi(arr):\n",
    "    max = 0\n",
    "    for i in arr:\n",
    "        if i > max:\n",
    "            max = i\n",
    "    return max\n",
    "maxi(a)"
   ]
  },
  {
   "cell_type": "code",
   "execution_count": 17,
   "id": "c4fc1761",
   "metadata": {},
   "outputs": [
    {
     "data": {
      "text/plain": [
       "2"
      ]
     },
     "execution_count": 17,
     "metadata": {},
     "output_type": "execute_result"
    }
   ],
   "source": [
    "'''Problem 27: Implement linear search to find the index of a target element in an array.\n",
    "    \n",
    "Input: [5, 3, 8, 2, 7, 4], target = 8\n",
    "Output: 2'''\n",
    "\n",
    "Input= [5, 3, 8, 2, 7, 4]\n",
    "target = 8\n",
    "\n",
    "def linear_search(arr, target):\n",
    "    for i in range(len(arr)):\n",
    "        if arr[i] == target:\n",
    "            return i\n",
    "    return -1\n",
    "\n",
    "linear_search(Input,target)"
   ]
  },
  {
   "cell_type": "code",
   "execution_count": 9,
   "id": "ca4b55de",
   "metadata": {},
   "outputs": [
    {
     "data": {
      "text/plain": [
       "120"
      ]
     },
     "execution_count": 9,
     "metadata": {},
     "output_type": "execute_result"
    }
   ],
   "source": [
    "'''Problem 28 Calculate the factorial of a given number.\n",
    "\n",
    "Input: 5\n",
    "Output: 120 (as 5! = 5 * 4 * 3 * 2 * 1 = 120)'''\n",
    "\n",
    "def factorial(n):\n",
    "    if n<=1:\n",
    "        return n\n",
    "    else:\n",
    "        return n * factorial(n-1)\n",
    "    \n",
    "factorial(5)"
   ]
  },
  {
   "cell_type": "code",
   "execution_count": 8,
   "id": "6c4bafec",
   "metadata": {},
   "outputs": [
    {
     "data": {
      "text/plain": [
       "True"
      ]
     },
     "execution_count": 8,
     "metadata": {},
     "output_type": "execute_result"
    }
   ],
   "source": [
    "'''Problem 29: Check if a given number is a prime number.\n",
    "    \n",
    "Input: 7\n",
    "Output: True'''\n",
    "\n",
    "def is_prime(number):\n",
    "    if number < 2:\n",
    "        return False\n",
    "    for i in range(2, int(number**0.5) + 1):\n",
    "        if number % i == 0:\n",
    "            return False\n",
    "    return True\n",
    "is_prime(7)"
   ]
  },
  {
   "cell_type": "code",
   "execution_count": 2,
   "id": "934e3658",
   "metadata": {},
   "outputs": [
    {
     "name": "stdout",
     "output_type": "stream",
     "text": [
      "Enter the value of n: 5\n",
      "Fibonacci series up to 5 : [0, 1, 1, 2, 3, 5]\n"
     ]
    }
   ],
   "source": [
    "'''Problem 30: Generate the Fibonacci series up to a given number n.\n",
    "    \n",
    "Input: 8\n",
    "Output: [0, 1, 1, 2, 3, 5, 8, 13]'''\n",
    "def generate_fibonacci(n):\n",
    "    fibonacci_series = []\n",
    "    a, b = 0, 1\n",
    "    while a <= n:\n",
    "        fibonacci_series.append(a)\n",
    "        a, b = b, a + b\n",
    "    return fibonacci_series\n",
    "\n",
    "\n",
    "n = int(input(\"Enter the value of n: \"))\n",
    "fib_series = generate_fibonacci(n)\n",
    "print(\"Fibonacci series up to\", n, \":\", fib_series)\n"
   ]
  },
  {
   "cell_type": "code",
   "execution_count": 1,
   "id": "219b783d",
   "metadata": {},
   "outputs": [
    {
     "name": "stdout",
     "output_type": "stream",
     "text": [
      "81\n"
     ]
    }
   ],
   "source": [
    "'''Problem 31: Calculate the power of a number using recursion.\n",
    "    \n",
    "Input: base = 3, exponent = 4\n",
    "Output: 81 (as 3^4 = 3 * 3 * 3 * 3 = 81)'''\n",
    "\n",
    "def power(base, exponent):\n",
    "    # Base Case\n",
    "    if exponent == 0:\n",
    "        return 1\n",
    "    # Recursive Case\n",
    "    else:\n",
    "        return base * power(base, exponent - 1)\n",
    "\n",
    "\n",
    "base = 3\n",
    "exponent = 4\n",
    "print(power(base, exponent)) \n"
   ]
  },
  {
   "cell_type": "code",
   "execution_count": 5,
   "id": "ec2f10ff",
   "metadata": {},
   "outputs": [
    {
     "name": "stdout",
     "output_type": "stream",
     "text": [
      "olleh\n"
     ]
    }
   ],
   "source": [
    "'''Problem 32: Reverse a given string.\n",
    "Input: \"hello\"\n",
    "Output: \"olleh\"'''\n",
    "\n",
    "a = \"hello\"\n",
    "b = a[::-1]\n",
    "print(b)"
   ]
  },
  {
   "cell_type": "code",
   "execution_count": null,
   "id": "64d43bb9",
   "metadata": {},
   "outputs": [],
   "source": []
  }
 ],
 "metadata": {
  "kernelspec": {
   "display_name": "Python 3 (ipykernel)",
   "language": "python",
   "name": "python3"
  },
  "language_info": {
   "codemirror_mode": {
    "name": "ipython",
    "version": 3
   },
   "file_extension": ".py",
   "mimetype": "text/x-python",
   "name": "python",
   "nbconvert_exporter": "python",
   "pygments_lexer": "ipython3",
   "version": "3.11.4"
  }
 },
 "nbformat": 4,
 "nbformat_minor": 5
}
